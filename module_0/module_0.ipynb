{
 "cells": [
  {
   "cell_type": "code",
   "execution_count": 17,
   "metadata": {},
   "outputs": [
    {
     "name": "stdout",
     "output_type": "stream",
     "text": [
      "Ваш алгоритм угадывает число в среднем за 5 попыток\n"
     ]
    },
    {
     "data": {
      "text/plain": [
       "5"
      ]
     },
     "execution_count": 17,
     "metadata": {},
     "output_type": "execute_result"
    }
   ],
   "source": [
    "'''Компьютер загадывает целое число от 1 до 100 и нам нужно написать \n",
    "программу, которая угадывает данное число с наименьшем количеством итераций.'''\n",
    "\n",
    "import numpy as np\n",
    "import random\n",
    "\n",
    "def search(number):\n",
    "    '''Создаем функцию по поиску загаданного компьютером случайного числа \n",
    "    и подсчета и возврата количества итерацей по его поиску'''\n",
    "    random_num = random.randint(1,100)\n",
    "    predict = 50\n",
    "    max_num = 101\n",
    "    min_num = 1 \n",
    "    count = 0\n",
    "    \n",
    "    while True: #запускаем цикл поиска загаданного числа методом деления на 2.\n",
    "        count+=1\n",
    "        if random_num == predict:\n",
    "            break  #выходим из цикла, если угадали\n",
    "        elif random_num > predict:\n",
    "            min_num = predict\n",
    "            predict = (predict + max_num)//2 \n",
    "        else:\n",
    "            max_num = predict\n",
    "            predict = (predict+min_num)//2\n",
    "            \n",
    "    return (count)\n",
    "\n",
    "\n",
    "def score_game(game_core):\n",
    "    '''Запускаем игру 1000 раз, чтобы узнать, как быстро игра угадывает число'''\n",
    "    count_ls = []\n",
    "    np.random.seed(1)  # фиксируем RANDOM SEED, чтобы ваш эксперимент был воспроизводим!\n",
    "    random_array = np.random.randint(1,101, size=(1000))\n",
    "    for number in random_array:\n",
    "        count_ls.append(game_core(number))\n",
    "    score = int(np.mean(count_ls))\n",
    "    print(f\"Ваш алгоритм угадывает число в среднем за {score} попыток\")\n",
    "    return(score)\n",
    "\n",
    "\n",
    "score_game(search)"
   ]
  },
  {
   "cell_type": "code",
   "execution_count": null,
   "metadata": {},
   "outputs": [],
   "source": []
  }
 ],
 "metadata": {
  "kernelspec": {
   "display_name": "Python 3",
   "language": "python",
   "name": "python3"
  },
  "language_info": {
   "codemirror_mode": {
    "name": "ipython",
    "version": 3
   },
   "file_extension": ".py",
   "mimetype": "text/x-python",
   "name": "python",
   "nbconvert_exporter": "python",
   "pygments_lexer": "ipython3",
   "version": "3.8.5"
  }
 },
 "nbformat": 4,
 "nbformat_minor": 4
}
